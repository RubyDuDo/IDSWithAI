{
 "cells": [
  {
   "cell_type": "code",
   "execution_count": 128,
   "metadata": {},
   "outputs": [
    {
     "data": {
      "text/plain": [
       "<module 'algorithm' from '/Users/pinky/workspace/jupyter/aienv/workspace/IDSWithAI/algorithm.py'>"
      ]
     },
     "execution_count": 128,
     "metadata": {},
     "output_type": "execute_result"
    }
   ],
   "source": [
    "# reload module ,when module changed\n",
    "import feature as ft\n",
    "import algorithm as al\n",
    "import importlib\n",
    "importlib.reload(ft)\n",
    "importlib.reload(al)"
   ]
  },
  {
   "cell_type": "code",
   "execution_count": 133,
   "metadata": {},
   "outputs": [
    {
     "name": "stdout",
     "output_type": "stream",
     "text": [
      "(175341, 43)\n",
      "(82332, 43)\n"
     ]
    }
   ],
   "source": [
    "import feature as ft\n",
    "import algorithm as al\n",
    "import numpy as np\n",
    "\n",
    "# read data from files\n",
    "train = ft.read_data(\"train\")\n",
    "test = ft.read_data(\"test\")\n",
    "\n",
    "X_train= train.iloc[:,:-1]\n",
    "Y_train = train.iloc[:,-1]\n",
    "\n",
    "X_test= test.iloc[:,:-1]\n",
    "Y_test = test.iloc[:,-1]\n",
    "\n",
    "# print( train.dtypes)\n",
    "print( train.shape)\n",
    "print( test.shape )\n",
    "# print(train)\n",
    "\n",
    "numeric_features = X_train.select_dtypes( np.number ).columns\n",
    "train_Ori = train\n",
    "test_Ori = test\n",
    "\n",
    "\n",
    "\n",
    "\n"
   ]
  },
  {
   "cell_type": "code",
   "execution_count": 134,
   "metadata": {},
   "outputs": [
    {
     "name": "stdout",
     "output_type": "stream",
     "text": [
      "             dur proto service state     spkts     dpkts    sbytes     dbytes  \\\n",
      "0       0.114647   tcp       -   FIN  1.945910  1.609438  5.556828   5.153292   \n",
      "1       0.500716   tcp       -   FIN  2.708050  3.663562  6.599870  10.645782   \n",
      "2       0.964368   tcp       -   FIN  2.197225  2.833213  5.899897   9.486987   \n",
      "3       0.986429   tcp     ftp   FIN  2.564949  2.564949  6.444131   6.647688   \n",
      "4       0.371187   tcp       -   FIN  2.397895  1.945910  6.282267   5.594711   \n",
      "...          ...   ...     ...   ...       ...       ...       ...        ...   \n",
      "175336  0.000009   udp     dns   INT  1.098612  0.000000  4.744932   0.000000   \n",
      "175337  0.409299   tcp       -   FIN  2.397895  2.197225  6.431331   5.872118   \n",
      "175338  0.000009   udp     dns   INT  1.098612  0.000000  4.744932   0.000000   \n",
      "175339  0.000009   udp     dns   INT  1.098612  0.000000  4.744932   0.000000   \n",
      "175340  0.000009   udp     dns   INT  1.098612  0.000000  4.744932   0.000000   \n",
      "\n",
      "             rate  sttl  ...  ct_dst_ltm  ct_src_dport_ltm  ct_dst_sport_ltm  \\\n",
      "0        4.318654   252  ...    0.693147          0.693147          0.693147   \n",
      "1        4.375422    62  ...    0.693147          0.693147          0.693147   \n",
      "2        2.719330    62  ...    1.098612          0.693147          0.693147   \n",
      "3        2.686289    62  ...    1.098612          0.693147          0.693147   \n",
      "4        3.537295   254  ...    1.098612          1.098612          0.693147   \n",
      "...           ...   ...  ...         ...               ...               ...   \n",
      "175336  11.618295   254  ...    3.218876          3.218876          2.639057   \n",
      "175337   3.544219   254  ...    0.693147          0.693147          0.693147   \n",
      "175338  11.618295   254  ...    1.386294          1.386294          1.386294   \n",
      "175339  11.618295   254  ...    3.433987          3.433987          2.708050   \n",
      "175340  11.618295   254  ...    3.433987          3.433987          2.833213   \n",
      "\n",
      "        ct_dst_src_ltm  is_ftp_login  ct_ftp_cmd  ct_flw_http_mthd  \\\n",
      "0             0.693147      0.000000    0.000000               0.0   \n",
      "1             1.098612      0.000000    0.000000               0.0   \n",
      "2             1.386294      0.000000    0.000000               0.0   \n",
      "3             1.386294      0.693147    0.693147               0.0   \n",
      "4             3.713572      0.000000    0.000000               0.0   \n",
      "...                ...           ...         ...               ...   \n",
      "175336        3.218876      0.000000    0.000000               0.0   \n",
      "175337        1.098612      0.000000    0.000000               0.0   \n",
      "175338        2.639057      0.000000    0.000000               0.0   \n",
      "175339        3.433987      0.000000    0.000000               0.0   \n",
      "175340        3.433987      0.000000    0.000000               0.0   \n",
      "\n",
      "        ct_src_ltm  ct_srv_dst  is_sm_ips_ports  \n",
      "0         0.693147    0.693147              0.0  \n",
      "1         0.693147    1.945910              0.0  \n",
      "2         1.098612    1.945910              0.0  \n",
      "3         1.098612    0.693147              0.0  \n",
      "4         1.098612    3.688879              0.0  \n",
      "...            ...         ...              ...  \n",
      "175336    3.218876    3.218876              0.0  \n",
      "175337    0.693147    0.693147              0.0  \n",
      "175338    1.386294    2.564949              0.0  \n",
      "175339    3.433987    3.433987              0.0  \n",
      "175340    3.433987    3.433987              0.0  \n",
      "\n",
      "[175341 rows x 42 columns]\n",
      "(175341, 194)\n",
      "194\n",
      "all_feature_names 194\n",
      "             dur     spkts     dpkts    sbytes    dbytes      rate      sttl  \\\n",
      "0      -0.342123 -0.068307  0.140261 -0.441590  0.334160 -0.852011  0.703839   \n",
      "1       0.247757  0.597577  1.463624  0.188354  1.720441 -0.838341 -1.141901   \n",
      "2       0.956178  0.151267  0.928674 -0.234394  1.427966 -1.237125 -1.141901   \n",
      "3       0.989886  0.472549  0.755846  0.094296  0.711339 -1.245081 -1.141901   \n",
      "4       0.049848  0.326594  0.357032 -0.003462  0.445572 -1.040160  0.723268   \n",
      "...          ...       ...       ...       ...       ...       ...       ...   \n",
      "175336 -0.517281 -0.808594 -0.896615 -0.931933 -0.966509  0.905728  0.723268   \n",
      "175337  0.108080  0.326594  0.518940  0.086565  0.515589 -1.038493  0.723268   \n",
      "175338 -0.517281 -0.808594 -0.896615 -0.931933 -0.966509  0.905728  0.723268   \n",
      "175339 -0.517281 -0.808594 -0.896615 -0.931933 -0.966509  0.905728  0.723268   \n",
      "175340 -0.517281 -0.808594 -0.896615 -0.931933 -0.966509  0.905728  0.723268   \n",
      "\n",
      "            dttl     sload     dload  ...  service_ssl  state_CON  state_ECO  \\\n",
      "0       1.305694 -0.937019  0.591119  ...          0.0        0.0        0.0   \n",
      "1       1.302438 -1.049058  1.295137  ...          0.0        0.0        0.0   \n",
      "2       1.302438 -1.408041  0.930891  ...          0.0        0.0        0.0   \n",
      "3       1.302438 -1.289018  0.431105  ...          0.0        0.0        0.0   \n",
      "4       1.302438 -1.044852  0.460678  ...          0.0        0.0        0.0   \n",
      "...          ...       ...       ...  ...          ...        ...        ...   \n",
      "175336 -0.985871  0.817068 -0.969240  ...          0.0        0.0        0.0   \n",
      "175337  1.302438 -1.038323  0.496352  ...          0.0        0.0        0.0   \n",
      "175338 -0.985871  0.817068 -0.969240  ...          0.0        0.0        0.0   \n",
      "175339 -0.985871  0.817068 -0.969240  ...          0.0        0.0        0.0   \n",
      "175340 -0.985871  0.817068 -0.969240  ...          0.0        0.0        0.0   \n",
      "\n",
      "        state_FIN  state_INT  state_PAR  state_REQ  state_RST  state_URN  \\\n",
      "0             1.0        0.0        0.0        0.0        0.0        0.0   \n",
      "1             1.0        0.0        0.0        0.0        0.0        0.0   \n",
      "2             1.0        0.0        0.0        0.0        0.0        0.0   \n",
      "3             1.0        0.0        0.0        0.0        0.0        0.0   \n",
      "4             1.0        0.0        0.0        0.0        0.0        0.0   \n",
      "...           ...        ...        ...        ...        ...        ...   \n",
      "175336        0.0        1.0        0.0        0.0        0.0        0.0   \n",
      "175337        1.0        0.0        0.0        0.0        0.0        0.0   \n",
      "175338        0.0        1.0        0.0        0.0        0.0        0.0   \n",
      "175339        0.0        1.0        0.0        0.0        0.0        0.0   \n",
      "175340        0.0        1.0        0.0        0.0        0.0        0.0   \n",
      "\n",
      "        state_no  \n",
      "0            0.0  \n",
      "1            0.0  \n",
      "2            0.0  \n",
      "3            0.0  \n",
      "4            0.0  \n",
      "...          ...  \n",
      "175336       0.0  \n",
      "175337       0.0  \n",
      "175338       0.0  \n",
      "175339       0.0  \n",
      "175340       0.0  \n",
      "\n",
      "[175341 rows x 194 columns]\n",
      "(82332, 194)\n",
      "194\n",
      "all_feature_names 194\n",
      "            dur     spkts     dpkts    sbytes    dbytes      rate      sttl  \\\n",
      "0     -0.517278 -0.808594 -0.896615 -0.047959 -0.966509  0.857408  0.723268   \n",
      "1     -0.517282 -0.808594 -0.896615  0.716750 -0.966509  0.934090  0.723268   \n",
      "2     -0.517287 -0.808594 -0.896615  0.414598 -0.966509  1.047265  0.723268   \n",
      "3     -0.517285 -0.808594 -0.896615  0.311339 -0.966509  1.003363  0.723268   \n",
      "4     -0.517279 -0.808594 -0.896615  0.830108 -0.966509  0.880358  0.723268   \n",
      "...         ...       ...       ...       ...       ...       ...       ...   \n",
      "82327 -0.517287 -0.808594 -0.896615 -0.986875 -0.966509  1.047265  0.723268   \n",
      "82328  0.620756  0.891554  0.518940  2.122046  0.515589 -1.112918  0.723268   \n",
      "82329 -0.517294 -1.162850 -0.896615 -1.472337 -0.966509 -1.891934 -1.744196   \n",
      "82330 -0.517294 -1.162850 -0.896615 -1.472337 -0.966509 -1.891934 -1.744196   \n",
      "82331 -0.517281 -0.808594 -0.896615 -0.986875 -0.966509  0.905728  0.723268   \n",
      "\n",
      "           dttl     sload     dload  ...  service_ssl  state_CON  state_ECO  \\\n",
      "0     -0.985871  1.089252 -0.969240  ...          0.0        0.0        0.0   \n",
      "1     -0.985871  1.429258 -0.969240  ...          0.0        0.0        0.0   \n",
      "2     -0.985871  1.422685 -0.969240  ...          0.0        0.0        0.0   \n",
      "3     -0.985871  1.346913 -0.969240  ...          0.0        0.0        0.0   \n",
      "4     -0.985871  1.421679 -0.969240  ...          0.0        0.0        0.0   \n",
      "...         ...       ...       ...  ...          ...        ...        ...   \n",
      "82327 -0.985871  0.923390 -0.969240  ...          0.0        0.0        0.0   \n",
      "82328  1.302438 -0.471688  0.361435  ...          0.0        0.0        0.0   \n",
      "82329 -0.985871 -2.985984 -0.969240  ...          0.0        0.0        0.0   \n",
      "82330 -0.985871 -2.985984 -0.969240  ...          0.0        0.0        0.0   \n",
      "82331 -0.985871  0.797388 -0.969240  ...          0.0        0.0        0.0   \n",
      "\n",
      "       state_FIN  state_INT  state_PAR  state_REQ  state_RST  state_URN  \\\n",
      "0            0.0        1.0        0.0        0.0        0.0        0.0   \n",
      "1            0.0        1.0        0.0        0.0        0.0        0.0   \n",
      "2            0.0        1.0        0.0        0.0        0.0        0.0   \n",
      "3            0.0        1.0        0.0        0.0        0.0        0.0   \n",
      "4            0.0        1.0        0.0        0.0        0.0        0.0   \n",
      "...          ...        ...        ...        ...        ...        ...   \n",
      "82327        0.0        1.0        0.0        0.0        0.0        0.0   \n",
      "82328        1.0        0.0        0.0        0.0        0.0        0.0   \n",
      "82329        0.0        1.0        0.0        0.0        0.0        0.0   \n",
      "82330        0.0        1.0        0.0        0.0        0.0        0.0   \n",
      "82331        0.0        1.0        0.0        0.0        0.0        0.0   \n",
      "\n",
      "       state_no  \n",
      "0           0.0  \n",
      "1           0.0  \n",
      "2           0.0  \n",
      "3           0.0  \n",
      "4           0.0  \n",
      "...         ...  \n",
      "82327       0.0  \n",
      "82328       0.0  \n",
      "82329       0.0  \n",
      "82330       0.0  \n",
      "82331       0.0  \n",
      "\n",
      "[82332 rows x 194 columns]\n"
     ]
    }
   ],
   "source": [
    "# use different way to deal the feature\n",
    "# X_train, X_test = ft.feature_simple( X_train, X_test )\n",
    "X_train, X_test = ft.feature_current( X_train, X_test )\n",
    "\n",
    "\n"
   ]
  },
  {
   "cell_type": "code",
   "execution_count": 118,
   "metadata": {},
   "outputs": [
    {
     "name": "stdout",
     "output_type": "stream",
     "text": [
      "Accuracy: 0.8704999271243259\n"
     ]
    },
    {
     "data": {
      "text/plain": [
       "0.8704999271243259"
      ]
     },
     "execution_count": 118,
     "metadata": {},
     "output_type": "execute_result"
    }
   ],
   "source": [
    "# example of simple train\n",
    "from sklearn.neighbors import KNeighborsClassifier\n",
    "nc = 20\n",
    "knn = KNeighborsClassifier(n_neighbors=nc)\n",
    "al.train_and_evaluate( knn, X_train, Y_train, X_test, Y_test )\n"
   ]
  },
  {
   "cell_type": "code",
   "execution_count": 46,
   "metadata": {},
   "outputs": [
    {
     "name": "stdout",
     "output_type": "stream",
     "text": [
      "Test (on val dateset ) accuracy: 95.05% __ 93.65%\n",
      "Test (on val dateset ) accuracy: 94.69% __ 93.85%\n",
      "\n",
      "\n",
      "Test accuracy: 83.85%\n"
     ]
    },
    {
     "data": {
      "text/plain": [
       "(0.8384710683573823, KNeighborsClassifier(n_neighbors=20))"
      ]
     },
     "execution_count": 46,
     "metadata": {},
     "output_type": "execute_result"
    }
   ],
   "source": [
    "# example of train with validation dataset\n",
    "classfiers = []\n",
    "for nc in [10,20]:\n",
    "    knn = KNeighborsClassifier(n_neighbors=nc)\n",
    "    classfiers.append(knn)\n",
    "\n",
    "al.train_and_evaluate_with_val( classfiers, X_train, Y_train, X_test, Y_test )"
   ]
  },
  {
   "cell_type": "code",
   "execution_count": 107,
   "metadata": {},
   "outputs": [
    {
     "name": "stdout",
     "output_type": "stream",
     "text": [
      "Accuracy: 0.8635524461934606\n"
     ]
    },
    {
     "data": {
      "text/plain": [
       "0.8635524461934606"
      ]
     },
     "execution_count": 107,
     "metadata": {},
     "output_type": "execute_result"
    }
   ],
   "source": [
    "from sklearn.tree import DecisionTreeClassifier\n",
    "clf = DecisionTreeClassifier(random_state=42)\n",
    "al.train_and_evaluate(clf, X_train, Y_train, X_test, Y_test )"
   ]
  },
  {
   "cell_type": "code",
   "execution_count": 69,
   "metadata": {},
   "outputs": [],
   "source": [
    "#通过决策树，观察哪些字段对决策的重要性更大\n",
    "# 获取特征重要性并创建DataFrame\n",
    "feature_importances = clf.feature_importances_\n",
    "feature_names = X_train.columns\n",
    "features_df = pd.DataFrame({\n",
    "    'Feature': feature_names,\n",
    "    'Importance': feature_importances\n",
    "})\n",
    "\n",
    "# 按重要性排序\n",
    "features_df = features_df.sort_values(by='Importance', ascending=False)\n",
    "\n",
    "features_df.to_csv('output.csv', index=False)\n",
    "    "
   ]
  },
  {
   "cell_type": "code",
   "execution_count": 108,
   "metadata": {},
   "outputs": [
    {
     "name": "stdout",
     "output_type": "stream",
     "text": [
      "Accuracy: 0.8145557013069038\n"
     ]
    },
    {
     "data": {
      "text/plain": [
       "0.8145557013069038"
      ]
     },
     "execution_count": 108,
     "metadata": {},
     "output_type": "execute_result"
    }
   ],
   "source": [
    "from sklearn.linear_model import SGDClassifier\n",
    "#SGD model\n",
    "sgd = SGDClassifier(loss='hinge', penalty='l2', max_iter=1000, tol=1e-3, random_state=42)\n",
    "al.train_and_evaluate( sgd, X_train, Y_train, X_test, Y_test )\n"
   ]
  },
  {
   "cell_type": "code",
   "execution_count": 70,
   "metadata": {},
   "outputs": [
    {
     "name": "stdout",
     "output_type": "stream",
     "text": [
      "['dwin', 'ct_ftp_cmd', 'is_sm_ips_ports', 'proto_3pc', 'proto_a/n', 'proto_aes-sp3-d', 'proto_any', 'proto_argus', 'proto_aris', 'proto_arp', 'proto_ax.25', 'proto_bbn-rcc', 'proto_bna', 'proto_br-sat-mon', 'proto_cbt', 'proto_cftp', 'proto_chaos', 'proto_compaq-peer', 'proto_cphb', 'proto_cpnx', 'proto_crtp', 'proto_crudp', 'proto_dcn', 'proto_ddp', 'proto_ddx', 'proto_dgp', 'proto_egp', 'proto_eigrp', 'proto_emcon', 'proto_encap', 'proto_etherip', 'proto_fc', 'proto_fire', 'proto_ggp', 'proto_gmtp', 'proto_gre', 'proto_hmp', 'proto_i-nlsp', 'proto_iatp', 'proto_ib', 'proto_idpr', 'proto_idpr-cmtp', 'proto_idrp', 'proto_ifmp', 'proto_igp', 'proto_il', 'proto_ip', 'proto_ipcomp', 'proto_ipcv', 'proto_ipip', 'proto_iplt', 'proto_ipnip', 'proto_ippc', 'proto_ipv6', 'proto_ipv6-frag', 'proto_ipv6-no', 'proto_ipv6-opts', 'proto_ipv6-route', 'proto_ipx-n-ip', 'proto_irtp', 'proto_isis', 'proto_iso-ip', 'proto_iso-tp4', 'proto_kryptolan', 'proto_l2tp', 'proto_larp', 'proto_leaf-1', 'proto_leaf-2', 'proto_merit-inp', 'proto_mfe-nsp', 'proto_mhrp', 'proto_micp', 'proto_mobile', 'proto_mtp', 'proto_mux', 'proto_narp', 'proto_netblt', 'proto_nsfnet-igp', 'proto_nvp', 'proto_ospf', 'proto_pgm', 'proto_pim', 'proto_pipe', 'proto_pnni', 'proto_pri-enc', 'proto_prm', 'proto_ptp', 'proto_pup', 'proto_pvp', 'proto_qnx', 'proto_rdp', 'proto_rsvp', 'proto_rvd', 'proto_sat-expak', 'proto_sat-mon', 'proto_sccopmce', 'proto_scps', 'proto_sdrp', 'proto_secure-vmtp', 'proto_sep', 'proto_skip', 'proto_sm', 'proto_smp', 'proto_snp', 'proto_sprite-rpc', 'proto_sps', 'proto_srp', 'proto_st2', 'proto_stp', 'proto_sun-nd', 'proto_swipe', 'proto_tcf', 'proto_tlsp', 'proto_tp++', 'proto_trunk-1', 'proto_trunk-2', 'proto_ttp', 'proto_unas', 'proto_uti', 'proto_vines', 'proto_visa', 'proto_vmtp', 'proto_vrrp', 'proto_wb-expak', 'proto_wb-mon', 'proto_wsn', 'proto_xnet', 'proto_xns-idp', 'proto_xtp', 'proto_zero', 'service_dhcp', 'service_irc', 'service_pop3', 'service_ssh', 'service_ssl', 'state_ECO', 'state_FIN', 'state_INT', 'state_PAR', 'state_REQ', 'state_URN', 'state_no']\n"
     ]
    }
   ],
   "source": [
    "# 通过决策树，找到没啥影响的列，删掉他们\n",
    "features_with_zero_importance = [feature_names[i] for i, importance in enumerate(feature_importances) if importance == 0]\n",
    "print( features_with_zero_importance)\n",
    "\n",
    "X_train.drop( features_with_zero_importance, axis = 1, inplace = True )\n",
    "X_test.drop( features_with_zero_importance, axis = 1, inplace = True )\n",
    "\n",
    "print(X_train.shape)\n",
    "print(X_test.shape)"
   ]
  },
  {
   "cell_type": "code",
   "execution_count": 135,
   "metadata": {},
   "outputs": [
    {
     "name": "stdout",
     "output_type": "stream",
     "text": [
      "0.1   -0.517290\n",
      "0.2   -0.517285\n",
      "0.3   -0.517281\n",
      "0.4   -0.517281\n",
      "0.5   -0.514879\n",
      "0.6   -0.425416\n",
      "0.7    0.089410\n",
      "0.8    0.437778\n",
      "0.9    0.888866\n",
      "Name: dur, dtype: float64\n",
      "右偏: 3.3663551123626902\n",
      "dur右偏: 3.3663551123626902\n",
      "spkts右偏: 1.1163200030350757\n",
      "dpkts右偏: 0.7845244619554637\n",
      "sbytes右偏: 1.168992682339287\n",
      "dbytes右偏: 0.37186626252208804\n",
      "ratenot 右偏 -0.2029734179166805\n",
      "sttlnot 右偏 -0.6781034355138321\n",
      "dttl右偏: 0.1956270239067868\n",
      "sloadnot 右偏 -0.4759244392930857\n",
      "dload右偏: 0.3149053105881912\n",
      "sloss右偏: 1.376676337933982\n",
      "dloss右偏: 1.7863397235060787\n",
      "sinpkt右偏: 1.2404978885982072\n",
      "dinpkt右偏: 0.9014124598611017\n",
      "sjit右偏: 0.43025983715523947\n",
      "djit右偏: 0.8476213609905618\n",
      "swin右偏: 0.1769399087145943\n",
      "stcpb右偏: 0.2079702996387571\n",
      "dtcpb右偏: 0.2080418619697656\n",
      "dwin右偏: 0.19675521515459682\n",
      "tcprtt右偏: 2.400878256682933\n",
      "synack右偏: 3.432755539661469\n",
      "ackdat右偏: 3.4274429814223297\n",
      "smean右偏: 2.029449671682816\n",
      "dmean右偏: 0.21849542376567058\n",
      "trans_depth右偏: 2.9245726886627854\n",
      "response_body_len右偏: 4.167989381481533\n",
      "ct_srv_src右偏: 0.4331871089376721\n",
      "ct_state_ttlnot 右偏 -0.5484542896035034\n",
      "ct_dst_ltm右偏: 0.8457416183942286\n",
      "ct_src_dport_ltm右偏: 1.1715291096700133\n",
      "ct_dst_sport_ltm右偏: 1.2352861959098151\n",
      "ct_dst_src_ltm右偏: 0.631232076139186\n",
      "is_ftp_login右偏: 8.340766901664662\n",
      "ct_ftp_cmd右偏: 8.340766901664662\n",
      "ct_flw_http_mthd右偏: 4.051024355788816\n",
      "ct_src_ltm右偏: 0.6543547737771536\n",
      "ct_srv_dst右偏: 0.4757850584739529\n",
      "is_sm_ips_ports右偏: 7.7781327879251485\n"
     ]
    },
    {
     "data": {
      "image/png": "[encoded data removed]",
      "text/plain": [
       "<Figure size 640x480 with 2 Axes>"
      ]
     },
     "metadata": {},
     "output_type": "display_data"
    }
   ],
   "source": [
    "import numpy as np\n",
    "import matplotlib.pyplot as plt\n",
    "\n",
    "from scipy.stats import skew\n",
    "\n",
    "data = X_train\n",
    "\n",
    "fig, axs = plt.subplots(1,2)\n",
    "ax = axs[0]\n",
    "\n",
    "deciles = data['dur'].quantile([.1, .2, .3, .4, .5, .6, .7, .8, .9])\n",
    "print(deciles)\n",
    "data['dur'].plot( kind='hist', color='lightgreen', edgecolor='black', bins=100, ax = ax )\n",
    "for pos in deciles:\n",
    "    handle = plt.axvline(pos, color='r')\n",
    "ax.legend([handle], ['deciles'], fontsize=14)\n",
    "ax.set_yscale('log')\n",
    "ax.set_xlabel( 'dur' )\n",
    "ax.set_ylabel('count')\n",
    "\n",
    "skewness = skew( data['dur'] )\n",
    "if skewness > 0 :\n",
    "    print(\"右偏:\", skewness)\n",
    "    pass\n",
    "else:\n",
    "    print(\"not 右偏\", skewness)\n",
    "\n",
    "ax1=axs[1]\n",
    "train_Ori['proto'].value_counts().plot( kind = 'bar', color='skyblue', ax=ax1 )\n",
    "ax1.set_yscale('log')\n",
    "ax1.set_xlabel( 'proto' )\n",
    "ax1.set_ylabel('count')\n",
    "\n",
    "for col in numeric_features:\n",
    "    skewness = skew( data[col] )\n",
    "    if skewness > 0:\n",
    "        print(f\"{col}右偏:\", skewness)\n",
    "        pass\n",
    "    else:\n",
    "        print(f\"{col}not 右偏\", skewness)\n",
    "\n",
    "\n",
    "\n",
    "# for index,  col in enumerate(data.columns):\n",
    "#     print(f\"draw:{index}\", col )\n",
    "#     if( index >= 8 ):\n",
    "#         break;\n",
    "#     i = int( index / coln )\n",
    "#     j = index % coln\n",
    "#     ax = axs[i,j]\n",
    "#     if data[col].dtype != 'object':\n",
    "#         # data.iloc[col].plot( kind='hist', color='lightgreen', edgecolor='black', ax=axs[index] )\n",
    "#         pass\n",
    "#     else:\n",
    "#         data[col].value_counts().plot( kind = 'bar', color='skyblue', ax=axs[index] )\n",
    "\n",
    "#     ax.set_title(f'Feature {i}')\n",
    "#     ax.set_xlabel( col )\n",
    "#     ax.set_ylabel('count')\n",
    "\n",
    "# plt.tight_layout()\n",
    "\n"
   ]
  },
  {
   "cell_type": "code",
   "execution_count": 89,
   "metadata": {},
   "outputs": [],
   "source": [
    "\n",
    "\n"
   ]
  },
  {
   "cell_type": "code",
   "execution_count": null,
   "metadata": {},
   "outputs": [],
   "source": []
  }
 ],
 "metadata": {
  "kernelspec": {
   "display_name": "aienv",
   "language": "python",
   "name": "python3"
  },
  "language_info": {
   "codemirror_mode": {
    "name": "ipython",
    "version": 3
   },
   "file_extension": ".py",
   "mimetype": "text/x-python",
   "name": "python",
   "nbconvert_exporter": "python",
   "pygments_lexer": "ipython3",
   "version": "3.12.3"
  }
 },
 "nbformat": 4,
 "nbformat_minor": 2
}
