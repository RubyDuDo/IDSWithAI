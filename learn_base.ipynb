{
 "cells": [
  {
   "cell_type": "code",
   "execution_count": 48,
   "metadata": {},
   "outputs": [
    {
     "data": {
      "text/plain": [
       "<module 'algorithm' from '/Users/pinky/workspace/jupyter/aienv/workspace/IDSWithAI/algorithm.py'>"
      ]
     },
     "execution_count": 48,
     "metadata": {},
     "output_type": "execute_result"
    }
   ],
   "source": [
    "# reload module ,when module changed\n",
    "import feature as ft\n",
    "import algorithm as al\n",
    "import importlib\n",
    "importlib.reload(ft)\n",
    "importlib.reload(al)"
   ]
  },
  {
   "cell_type": "code",
   "execution_count": 60,
   "metadata": {},
   "outputs": [
    {
     "name": "stdout",
     "output_type": "stream",
     "text": [
      "(175341, 43)\n",
      "(82332, 43)\n"
     ]
    }
   ],
   "source": [
    "import feature as ft\n",
    "import algorithm as al\n",
    "\n",
    "# read data from files\n",
    "train = ft.read_data(\"train\")\n",
    "test = ft.read_data(\"test\")\n",
    "\n",
    "X_train= train.iloc[:,:-1]\n",
    "Y_train = train.iloc[:,-1]\n",
    "\n",
    "X_test= test.iloc[:,:-1]\n",
    "Y_test = test.iloc[:,-1]\n",
    "\n",
    "# print( train.dtypes)\n",
    "print( train.shape)\n",
    "print( test.shape )\n",
    "\n",
    "\n",
    "\n"
   ]
  },
  {
   "cell_type": "code",
   "execution_count": 61,
   "metadata": {},
   "outputs": [
    {
     "name": "stdout",
     "output_type": "stream",
     "text": [
      "all_feature_names 194\n",
      "             dur     spkts     dpkts    sbytes    dbytes      rate      sttl  \\\n",
      "0      -0.191029 -0.104456 -0.135769 -0.049134 -0.102726 -0.576371  0.703839   \n",
      "1      -0.109485 -0.046014  0.172599 -0.046410  0.188544 -0.576345 -1.141901   \n",
      "2       0.040699 -0.089845 -0.026933 -0.048527 -0.012133 -0.576734 -1.141901   \n",
      "3       0.049729 -0.060624 -0.063212 -0.047016 -0.098563 -0.576737 -1.141901   \n",
      "4      -0.140417 -0.075235 -0.117630 -0.047554 -0.102057 -0.576617  0.723268   \n",
      "...          ...       ...       ...       ...       ...       ...       ...   \n",
      "175336 -0.209773 -0.133677 -0.172047 -0.049958 -0.103923  0.094951  0.723268   \n",
      "175337 -0.131728 -0.075235 -0.099490 -0.047062 -0.101459 -0.576616  0.723268   \n",
      "175338 -0.209773 -0.133677 -0.172047 -0.049958 -0.103923  0.094951  0.723268   \n",
      "175339 -0.209773 -0.133677 -0.172047 -0.049958 -0.103923  0.094951  0.723268   \n",
      "175340 -0.209773 -0.133677 -0.172047 -0.049958 -0.103923  0.094951  0.723268   \n",
      "\n",
      "            dttl     sload     dload  ...  service_ssl  state_CON  state_ECO  \\\n",
      "0       1.578100 -0.389897 -0.273700  ...          0.0        0.0        0.0   \n",
      "1       1.560002 -0.389928 -0.069233  ...          0.0        0.0        0.0   \n",
      "2       1.560002 -0.389964 -0.252044  ...          0.0        0.0        0.0   \n",
      "3       1.560002 -0.389958 -0.275821  ...          0.0        0.0        0.0   \n",
      "4       1.560002 -0.389927 -0.275561  ...          0.0        0.0        0.0   \n",
      "...          ...       ...       ...  ...          ...        ...        ...   \n",
      "175336 -0.720406 -0.120980 -0.277208  ...          0.0        0.0        0.0   \n",
      "175337  1.560002 -0.389926 -0.275183  ...          0.0        0.0        0.0   \n",
      "175338 -0.720406 -0.120980 -0.277208  ...          0.0        0.0        0.0   \n",
      "175339 -0.720406 -0.120980 -0.277208  ...          0.0        0.0        0.0   \n",
      "175340 -0.720406 -0.120980 -0.277208  ...          0.0        0.0        0.0   \n",
      "\n",
      "        state_FIN  state_INT  state_PAR  state_REQ  state_RST  state_URN  \\\n",
      "0             1.0        0.0        0.0        0.0        0.0        0.0   \n",
      "1             1.0        0.0        0.0        0.0        0.0        0.0   \n",
      "2             1.0        0.0        0.0        0.0        0.0        0.0   \n",
      "3             1.0        0.0        0.0        0.0        0.0        0.0   \n",
      "4             1.0        0.0        0.0        0.0        0.0        0.0   \n",
      "...           ...        ...        ...        ...        ...        ...   \n",
      "175336        0.0        1.0        0.0        0.0        0.0        0.0   \n",
      "175337        1.0        0.0        0.0        0.0        0.0        0.0   \n",
      "175338        0.0        1.0        0.0        0.0        0.0        0.0   \n",
      "175339        0.0        1.0        0.0        0.0        0.0        0.0   \n",
      "175340        0.0        1.0        0.0        0.0        0.0        0.0   \n",
      "\n",
      "        state_no  \n",
      "0            0.0  \n",
      "1            0.0  \n",
      "2            0.0  \n",
      "3            0.0  \n",
      "4            0.0  \n",
      "...          ...  \n",
      "175336       0.0  \n",
      "175337       0.0  \n",
      "175338       0.0  \n",
      "175339       0.0  \n",
      "175340       0.0  \n",
      "\n",
      "[175341 rows x 194 columns]\n",
      "all_feature_names 194\n",
      "            dur     spkts     dpkts    sbytes    dbytes      rate      sttl  \\\n",
      "0     -0.209773 -0.133677 -0.172047 -0.047772 -0.103923 -0.027189  0.723268   \n",
      "1     -0.209774 -0.133677 -0.172047 -0.040528 -0.103923  0.178922  0.723268   \n",
      "2     -0.209774 -0.133677 -0.172047 -0.044499 -0.103923  0.632367  0.723268   \n",
      "3     -0.209774 -0.133677 -0.172047 -0.045460 -0.103923  0.430836  0.723268   \n",
      "4     -0.209773 -0.133677 -0.172047 -0.038445 -0.103923  0.027774  0.723268   \n",
      "...         ...       ...       ...       ...       ...       ...       ...   \n",
      "82327 -0.209774 -0.133677 -0.172047 -0.050015 -0.103923  0.632367  0.723268   \n",
      "82328 -0.039086 -0.002182 -0.099490  0.052740 -0.101459 -0.576672  0.723268   \n",
      "82329 -0.209775 -0.140982 -0.172047 -0.050347 -0.103923 -0.576819 -1.744196   \n",
      "82330 -0.209775 -0.140982 -0.172047 -0.050347 -0.103923 -0.576819 -1.744196   \n",
      "82331 -0.209773 -0.133677 -0.172047 -0.050015 -0.103923  0.094951  0.723268   \n",
      "\n",
      "           dttl     sload     dload  ...  service_ssl  state_CON  state_ECO  \\\n",
      "0     -0.720406  0.567591 -0.277208  ...          0.0        0.0        0.0   \n",
      "1     -0.720406  4.287318 -0.277208  ...          0.0        0.0        0.0   \n",
      "2     -0.720406  4.146097 -0.277208  ...          0.0        0.0        0.0   \n",
      "3     -0.720406  2.795469 -0.277208  ...          0.0        0.0        0.0   \n",
      "4     -0.720406  4.124860 -0.277208  ...          0.0        0.0        0.0   \n",
      "...         ...       ...       ...  ...          ...        ...        ...   \n",
      "82327 -0.720406  0.051742 -0.277208  ...          0.0        0.0        0.0   \n",
      "82328  1.560002 -0.389314 -0.276282  ...          0.0        0.0        0.0   \n",
      "82329 -0.720406 -0.389973 -0.277208  ...          0.0        0.0        0.0   \n",
      "82330 -0.720406 -0.389973 -0.277208  ...          0.0        0.0        0.0   \n",
      "82331 -0.720406 -0.144576 -0.277208  ...          0.0        0.0        0.0   \n",
      "\n",
      "       state_FIN  state_INT  state_PAR  state_REQ  state_RST  state_URN  \\\n",
      "0            0.0        1.0        0.0        0.0        0.0        0.0   \n",
      "1            0.0        1.0        0.0        0.0        0.0        0.0   \n",
      "2            0.0        1.0        0.0        0.0        0.0        0.0   \n",
      "3            0.0        1.0        0.0        0.0        0.0        0.0   \n",
      "4            0.0        1.0        0.0        0.0        0.0        0.0   \n",
      "...          ...        ...        ...        ...        ...        ...   \n",
      "82327        0.0        1.0        0.0        0.0        0.0        0.0   \n",
      "82328        1.0        0.0        0.0        0.0        0.0        0.0   \n",
      "82329        0.0        1.0        0.0        0.0        0.0        0.0   \n",
      "82330        0.0        1.0        0.0        0.0        0.0        0.0   \n",
      "82331        0.0        1.0        0.0        0.0        0.0        0.0   \n",
      "\n",
      "       state_no  \n",
      "0           0.0  \n",
      "1           0.0  \n",
      "2           0.0  \n",
      "3           0.0  \n",
      "4           0.0  \n",
      "...         ...  \n",
      "82327       0.0  \n",
      "82328       0.0  \n",
      "82329       0.0  \n",
      "82330       0.0  \n",
      "82331       0.0  \n",
      "\n",
      "[82332 rows x 194 columns]\n"
     ]
    }
   ],
   "source": [
    "# use different way to deal the feature\n",
    "# X_train, X_test = ft.feature_simple( X_train, X_test )\n",
    "X_train, X_test = ft.feature_onehot_standard( X_train, X_test )\n",
    "\n",
    "\n"
   ]
  },
  {
   "cell_type": "code",
   "execution_count": 45,
   "metadata": {},
   "outputs": [
    {
     "name": "stdout",
     "output_type": "stream",
     "text": [
      "Accuracy: 0.8398192683282321\n"
     ]
    },
    {
     "data": {
      "text/plain": [
       "0.8398192683282321"
      ]
     },
     "execution_count": 45,
     "metadata": {},
     "output_type": "execute_result"
    }
   ],
   "source": [
    "# example of simple train\n",
    "from sklearn.neighbors import KNeighborsClassifier\n",
    "nc = 20\n",
    "knn = KNeighborsClassifier(n_neighbors=nc)\n",
    "al.train_and_evaluate( knn, X_train, Y_train, X_test, Y_test )\n"
   ]
  },
  {
   "cell_type": "code",
   "execution_count": 46,
   "metadata": {},
   "outputs": [
    {
     "name": "stdout",
     "output_type": "stream",
     "text": [
      "Test (on val dateset ) accuracy: 95.05% __ 93.65%\n",
      "Test (on val dateset ) accuracy: 94.69% __ 93.85%\n",
      "\n",
      "\n",
      "Test accuracy: 83.85%\n"
     ]
    },
    {
     "data": {
      "text/plain": [
       "(0.8384710683573823, KNeighborsClassifier(n_neighbors=20))"
      ]
     },
     "execution_count": 46,
     "metadata": {},
     "output_type": "execute_result"
    }
   ],
   "source": [
    "# example of train with validation dataset\n",
    "classfiers = []\n",
    "for nc in [10,20]:\n",
    "    knn = KNeighborsClassifier(n_neighbors=nc)\n",
    "    classfiers.append(knn)\n",
    "\n",
    "al.train_and_evaluate_with_val( classfiers, X_train, Y_train, X_test, Y_test )"
   ]
  },
  {
   "cell_type": "code",
   "execution_count": 76,
   "metadata": {},
   "outputs": [
    {
     "name": "stdout",
     "output_type": "stream",
     "text": [
      "Accuracy: 0.864742748870427\n"
     ]
    },
    {
     "data": {
      "text/plain": [
       "0.864742748870427"
      ]
     },
     "execution_count": 76,
     "metadata": {},
     "output_type": "execute_result"
    }
   ],
   "source": [
    "from sklearn.tree import DecisionTreeClassifier\n",
    "clf = DecisionTreeClassifier(random_state=42)\n",
    "al.train_and_evaluate(clf, X_train, Y_train, X_test, Y_test )"
   ]
  },
  {
   "cell_type": "code",
   "execution_count": 69,
   "metadata": {},
   "outputs": [],
   "source": [
    "#通过决策树，观察哪些字段对决策的重要性更大\n",
    "# 获取特征重要性并创建DataFrame\n",
    "feature_importances = clf.feature_importances_\n",
    "feature_names = X_train.columns\n",
    "features_df = pd.DataFrame({\n",
    "    'Feature': feature_names,\n",
    "    'Importance': feature_importances\n",
    "})\n",
    "\n",
    "# 按重要性排序\n",
    "features_df = features_df.sort_values(by='Importance', ascending=False)\n",
    "\n",
    "features_df.to_csv('output.csv', index=False)\n",
    "    "
   ]
  },
  {
   "cell_type": "code",
   "execution_count": 47,
   "metadata": {},
   "outputs": [
    {
     "name": "stdout",
     "output_type": "stream",
     "text": [
      "Accuracy: 0.8130131662051208\n"
     ]
    },
    {
     "data": {
      "text/plain": [
       "0.8130131662051208"
      ]
     },
     "execution_count": 47,
     "metadata": {},
     "output_type": "execute_result"
    }
   ],
   "source": [
    "#SGD model\n",
    "sgd = SGDClassifier(loss='hinge', penalty='l2', max_iter=1000, tol=1e-3, random_state=42)\n",
    "al.train_and_evaluate( sgd, X_train, Y_train, X_test, Y_test )\n"
   ]
  },
  {
   "cell_type": "code",
   "execution_count": 70,
   "metadata": {},
   "outputs": [
    {
     "name": "stdout",
     "output_type": "stream",
     "text": [
      "['dwin', 'ct_ftp_cmd', 'is_sm_ips_ports', 'proto_3pc', 'proto_a/n', 'proto_aes-sp3-d', 'proto_any', 'proto_argus', 'proto_aris', 'proto_arp', 'proto_ax.25', 'proto_bbn-rcc', 'proto_bna', 'proto_br-sat-mon', 'proto_cbt', 'proto_cftp', 'proto_chaos', 'proto_compaq-peer', 'proto_cphb', 'proto_cpnx', 'proto_crtp', 'proto_crudp', 'proto_dcn', 'proto_ddp', 'proto_ddx', 'proto_dgp', 'proto_egp', 'proto_eigrp', 'proto_emcon', 'proto_encap', 'proto_etherip', 'proto_fc', 'proto_fire', 'proto_ggp', 'proto_gmtp', 'proto_gre', 'proto_hmp', 'proto_i-nlsp', 'proto_iatp', 'proto_ib', 'proto_idpr', 'proto_idpr-cmtp', 'proto_idrp', 'proto_ifmp', 'proto_igp', 'proto_il', 'proto_ip', 'proto_ipcomp', 'proto_ipcv', 'proto_ipip', 'proto_iplt', 'proto_ipnip', 'proto_ippc', 'proto_ipv6', 'proto_ipv6-frag', 'proto_ipv6-no', 'proto_ipv6-opts', 'proto_ipv6-route', 'proto_ipx-n-ip', 'proto_irtp', 'proto_isis', 'proto_iso-ip', 'proto_iso-tp4', 'proto_kryptolan', 'proto_l2tp', 'proto_larp', 'proto_leaf-1', 'proto_leaf-2', 'proto_merit-inp', 'proto_mfe-nsp', 'proto_mhrp', 'proto_micp', 'proto_mobile', 'proto_mtp', 'proto_mux', 'proto_narp', 'proto_netblt', 'proto_nsfnet-igp', 'proto_nvp', 'proto_ospf', 'proto_pgm', 'proto_pim', 'proto_pipe', 'proto_pnni', 'proto_pri-enc', 'proto_prm', 'proto_ptp', 'proto_pup', 'proto_pvp', 'proto_qnx', 'proto_rdp', 'proto_rsvp', 'proto_rvd', 'proto_sat-expak', 'proto_sat-mon', 'proto_sccopmce', 'proto_scps', 'proto_sdrp', 'proto_secure-vmtp', 'proto_sep', 'proto_skip', 'proto_sm', 'proto_smp', 'proto_snp', 'proto_sprite-rpc', 'proto_sps', 'proto_srp', 'proto_st2', 'proto_stp', 'proto_sun-nd', 'proto_swipe', 'proto_tcf', 'proto_tlsp', 'proto_tp++', 'proto_trunk-1', 'proto_trunk-2', 'proto_ttp', 'proto_unas', 'proto_uti', 'proto_vines', 'proto_visa', 'proto_vmtp', 'proto_vrrp', 'proto_wb-expak', 'proto_wb-mon', 'proto_wsn', 'proto_xnet', 'proto_xns-idp', 'proto_xtp', 'proto_zero', 'service_dhcp', 'service_irc', 'service_pop3', 'service_ssh', 'service_ssl', 'state_ECO', 'state_FIN', 'state_INT', 'state_PAR', 'state_REQ', 'state_URN', 'state_no']\n"
     ]
    }
   ],
   "source": [
    "# 通过决策树，找到没啥影响的列，删掉他们\n",
    "features_with_zero_importance = [feature_names[i] for i, importance in enumerate(feature_importances) if importance == 0]\n",
    "print( features_with_zero_importance)\n",
    "\n",
    "X_train.drop( features_with_zero_importance, axis = 1, inplace = True )\n",
    "X_test.drop( features_with_zero_importance, axis = 1, inplace = True )\n",
    "\n",
    "print(X_train.shape)\n",
    "print(X_test.shape)"
   ]
  },
  {
   "cell_type": "code",
   "execution_count": 72,
   "metadata": {},
   "outputs": [
    {
     "name": "stdout",
     "output_type": "stream",
     "text": [
      "(175341, 52)\n",
      "(82332, 52)\n"
     ]
    }
   ],
   "source": []
  },
  {
   "cell_type": "code",
   "execution_count": null,
   "metadata": {},
   "outputs": [],
   "source": []
  }
 ],
 "metadata": {
  "kernelspec": {
   "display_name": "aienv",
   "language": "python",
   "name": "python3"
  },
  "language_info": {
   "codemirror_mode": {
    "name": "ipython",
    "version": 3
   },
   "file_extension": ".py",
   "mimetype": "text/x-python",
   "name": "python",
   "nbconvert_exporter": "python",
   "pygments_lexer": "ipython3",
   "version": "3.12.3"
  }
 },
 "nbformat": 4,
 "nbformat_minor": 2
}
